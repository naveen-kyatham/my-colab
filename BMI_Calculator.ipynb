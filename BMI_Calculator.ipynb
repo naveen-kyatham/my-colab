{
  "nbformat": 4,
  "nbformat_minor": 0,
  "metadata": {
    "colab": {
      "provenance": [],
      "authorship_tag": "ABX9TyPOWBAsnrFJMVhRHusAO8Da",
      "include_colab_link": true
    },
    "kernelspec": {
      "name": "python3",
      "display_name": "Python 3"
    },
    "language_info": {
      "name": "python"
    }
  },
  "cells": [
    {
      "cell_type": "markdown",
      "metadata": {
        "id": "view-in-github",
        "colab_type": "text"
      },
      "source": [
        "<a href=\"https://colab.research.google.com/github/naveen-kyatham/my-colab/blob/main/BMI_Calculator.ipynb\" target=\"_parent\"><img src=\"https://colab.research.google.com/assets/colab-badge.svg\" alt=\"Open In Colab\"/></a>"
      ]
    },
    {
      "cell_type": "code",
      "execution_count": null,
      "metadata": {
        "id": "kCn21YgT0Ujf",
        "colab": {
          "base_uri": "https://localhost:8080/"
        },
        "outputId": "97d0ee95-778a-4a8d-bf91-11a3a6bc3108"
      },
      "outputs": [
        {
          "output_type": "stream",
          "name": "stdout",
          "text": [
            "*****\n",
            "****\n",
            "***\n",
            "**\n",
            "*\n"
          ]
        }
      ],
      "source": [
        "# prompt: Print 5 stars in first row and reduce one star in each row\n",
        "\n",
        "rows = 5\n",
        "for i in range(rows,0,-1):\n",
        "    for j in range(i,0,-1):\n",
        "        print(\"*\",end=\"\")\n",
        "    print(\"\")\n"
      ]
    },
    {
      "cell_type": "code",
      "source": [
        "#program to calculate BMI (body mass index)\n",
        "#input the body weight(kgs) and height (meters)\n",
        "weight = float(input(\"Enter your weight in kgs: \"))\n",
        "height = float(input(\"Enter your height in meters: \"))\n",
        "#Calculate the BMI\n",
        "BMI = weight /(height * height)\n",
        "#Print the BMI value\n",
        "print(\"Provided weight is \" +str(weight)+ \" kgs and Provided height is \"+str(height)+\" meters. So the Body Mass Index calculated is: \" +str(BMI)+ \" kg/sq.mts\")\n",
        "print(f\"Provided weight is {weight} kgs and Provided height is {height} meters. So the Body Mass Index calculated is: {BMI} kg/sq.mts\")\n",
        "#Print the BMI result based on BMI\n",
        "if BMI < 25.00 :\n",
        "  print(\"BMI Result: Normal\")\n",
        "elif BMI <30.00 :\n",
        "  print(\"BMI Result: Over Weight\")\n",
        "elif BMI <35 :\n",
        "  print(\"BMI Result: Obese Class I\")\n",
        "elif BMI <35 :\n",
        "  print(\"BMI Result: Obese Class II\")\n",
        "else: print(\"BMI Result: Obese Class III\")\n"
      ],
      "metadata": {
        "colab": {
          "base_uri": "https://localhost:8080/"
        },
        "id": "6J2mUw158lSQ",
        "outputId": "3872b0bf-b314-4663-9acd-68305c562989"
      },
      "execution_count": null,
      "outputs": [
        {
          "output_type": "stream",
          "name": "stdout",
          "text": [
            "Enter your weight in kgs: 98\n",
            "Enter your height in meters: 173\n",
            "Provided weight is 98.0 kgs and Provided height is 173.0 meters. So the Body Mass Index calculated is: 0.0032744161181462797 kg/sq.mts\n",
            "Provided weight is 98.0 kgs and Provided height is 173.0 meters. So the Body Mass Index calculated is: 0.0032744161181462797 kg/sq.mts\n",
            "BMI Result: Normal\n"
          ]
        }
      ]
    },
    {
      "cell_type": "code",
      "source": [
        "#Program to calculate the life span left in weeks. Assumption of life span is 90 years and 52 weeks in a year\n",
        "#Input the user age\n",
        "age_in_years = int(input(\"enter your age in years:\"))\n",
        "#calculate the remaining age in years\n",
        "life_span_remaining_in_years = 90 - age_in_years\n",
        "#convert the remaining age into weeks\n",
        "life_span_remaining_in_weeks = life_span_remaining_in_years * 52\n",
        "#print the output\n",
        "print(f\"If your current age is {age_in_years} then the weeks of life span left are {life_span_remaining_in_weeks} So enjoy every moment!\")\n"
      ],
      "metadata": {
        "colab": {
          "base_uri": "https://localhost:8080/"
        },
        "id": "prVwg6L3vTIl",
        "outputId": "31fb57c1-4de2-4994-d620-92f158a743e5"
      },
      "execution_count": null,
      "outputs": [
        {
          "output_type": "stream",
          "name": "stdout",
          "text": [
            "enter your age in years:56\n",
            "If your current age is 56 then the weeks of life span left are 1768 So enjoy every moment!\n"
          ]
        }
      ]
    },
    {
      "cell_type": "code",
      "source": [
        "#tip calculator\n",
        "total_bill = float(input(\"What was the total bill?\"))\n",
        "tip_opted = int(input(\"What percent of tip would you like to give? 10, 12, or 15?\"))\n",
        "split_count = int(input(\"How many people to split the bill?\"))\n",
        "#calculation\n",
        "pay_amount_by_person = ((total_bill * (tip_opted/100)) + total_bill)/split_count\n",
        "#printing the output\n",
        "print(f\"Each person should pay: {pay_amount_by_person}\")"
      ],
      "metadata": {
        "colab": {
          "base_uri": "https://localhost:8080/"
        },
        "id": "1VOliXozzAGY",
        "outputId": "0ea1ea55-716e-4dc4-b038-05e0d430eb44"
      },
      "execution_count": null,
      "outputs": [
        {
          "output_type": "stream",
          "name": "stdout",
          "text": [
            "What was the total bill?150\n",
            "What percent of tip would you like to give? 10, 12, or 15?12\n",
            "How many people to split the bill?5\n",
            "Each person should pay: 33.6\n"
          ]
        }
      ]
    },
    {
      "cell_type": "code",
      "source": [
        "#Challenge 1\n",
        "name1 = input(\"Enter your name in : \")\n",
        "name2 = input(\"Enter pair name in : \")\n",
        "#combine the two names and converting to lowercase\n",
        "name3 = (name1 + name2).lower()\n",
        "#calculate count for TRUE\n",
        "true_counter_t = name3.count('t')\n",
        "true_counter_r = name3.count('r')\n",
        "true_counter_u = name3.count('u')\n",
        "true_counter_e = name3.count('e')\n",
        "#calculate count for LOVE\n",
        "true_counter_l = name3.count('l')\n",
        "true_counter_o = name3.count('o')\n",
        "true_counter_v = name3.count('v')\n",
        "true_counter_e = name3.count('e')\n",
        "#calculate sum of occurances for LOVE & TRUE\n",
        "true_total = true_counter_t + true_counter_r + true_counter_u + true_counter_e\n",
        "love_total = true_counter_l + true_counter_o + true_counter_v + true_counter_e\n",
        "love_score = int(str(true_total) + str(love_total))\n",
        "#Love Score categorization and print\n",
        "if love_score < 10 or love_score > 90 :\n",
        "  print(f\"your love score is {love_score} and lable is: coke and mentos\")\n",
        "elif love_score >= 40 and love_score <= 50 :\n",
        "  print(f\"your love score is {love_score} and lable is: alright together\")\n",
        "else :\n",
        "  print(f\"your love score is {love_score}\")\n"
      ],
      "metadata": {
        "id": "QyuIqJSW59Vv"
      },
      "execution_count": null,
      "outputs": []
    },
    {
      "cell_type": "code",
      "source": [
        "#random\n",
        "import random\n",
        "random_integer = random.randint(1, 10)\n",
        "print(random_integer)"
      ],
      "metadata": {
        "colab": {
          "base_uri": "https://localhost:8080/"
        },
        "id": "bboA3JQV8BG7",
        "outputId": "6657cc51-21d0-4acf-9050-57beb8727cde"
      },
      "execution_count": null,
      "outputs": [
        {
          "output_type": "stream",
          "name": "stdout",
          "text": [
            "10\n"
          ]
        }
      ]
    }
  ]
}